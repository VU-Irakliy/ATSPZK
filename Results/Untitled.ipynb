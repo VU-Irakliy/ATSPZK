{
 "cells": [
  {
   "cell_type": "code",
   "execution_count": 1,
   "id": "24762b97-6311-4c2f-a5fc-dd30c6e9403c",
   "metadata": {},
   "outputs": [],
   "source": [
    "# hello"
   ]
  },
  {
   "cell_type": "code",
   "execution_count": null,
   "id": "58e2ed6e-2cfc-44f9-ac22-f411dc438ad9",
   "metadata": {},
   "outputs": [],
   "source": []
  }
 ],
 "metadata": {
  "kernelspec": {
   "display_name": "Python 3",
   "language": "python",
   "name": "python3"
  },
  "language_info": {
   "codemirror_mode": {
    "name": "ipython",
    "version": 3
   },
   "file_extension": ".py",
   "mimetype": "text/x-python",
   "name": "python",
   "nbconvert_exporter": "python",
   "pygments_lexer": "ipython3",
   "version": "3.8.8"
  }
 },
 "nbformat": 4,
 "nbformat_minor": 5
}
